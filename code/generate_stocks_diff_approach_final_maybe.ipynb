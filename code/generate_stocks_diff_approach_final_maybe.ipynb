{
 "cells": [
  {
   "cell_type": "code",
   "execution_count": null,
   "metadata": {},
   "outputs": [],
   "source": [
    "import os\n",
    "import pandas as pd\n",
    "from tqdm import tqdm"
   ]
  },
  {
   "cell_type": "markdown",
   "metadata": {},
   "source": [
    "Loading Data"
   ]
  },
  {
   "cell_type": "code",
   "execution_count": null,
   "metadata": {},
   "outputs": [],
   "source": [
    "def load_data(file_name):\n",
    "    \"\"\"Load and preprocess the data.\"\"\"\n",
    "    sls = pd.read_feather(file_name)\n",
    "    sls['Date'] = pd.to_datetime(sls['Date'])\n",
    "    sls.drop_duplicates(subset=['Store_ID2', 'Product_ID', 'Date'], inplace=True)\n",
    "    return sls"
   ]
  },
  {
   "cell_type": "markdown",
   "metadata": {},
   "source": [
    "Generating Stocks"
   ]
  },
  {
   "cell_type": "code",
   "execution_count": null,
   "metadata": {},
   "outputs": [],
   "source": [
    "def generate_stocks(sls):\n",
    "    \"\"\"Generate a dataframe of stocks with restock dates.\"\"\"\n",
    "    stocks = sls.groupby(by=['Store_ID2', 'Product_ID'], as_index=False).agg({'Date': ['min', 'max']})\n",
    "    stocks.columns = ['_'.join(col).strip() for col in stocks.columns.values]\n",
    "    stocks.columns = stocks.columns.str.rstrip('_')\n",
    "    stocks.query('Date_min != Date_max', inplace=True)\n",
    "    stocks['Date_min'] = stocks['Date_min'] - pd.Timedelta(days=1)\n",
    "    stocks['Date'] = stocks.apply(lambda row: pd.date_range(start=row['Date_min'], end=row['Date_max']).tolist(), axis=1)\n",
    "    stocks = stocks.explode('Date')\n",
    "    stocks.drop(columns=['Date_max'], inplace=True)\n",
    "    stocks['Date'] = pd.to_datetime(stocks['Date'])\n",
    "    return stocks"
   ]
  },
  {
   "cell_type": "markdown",
   "metadata": {},
   "source": [
    "Calculate restock dates"
   ]
  },
  {
   "cell_type": "code",
   "execution_count": null,
   "metadata": {},
   "outputs": [],
   "source": [
    "def calculate_restock_days(group):\n",
    "    \"\"\"Calculate the next restock day for each row in the group.\"\"\"\n",
    "    first_date = group['Date'].min()\n",
    "    group['Next_Restock_Day'] = group['Date'].apply(lambda date: first_date + pd.DateOffset(weeks=((date - first_date).days // 7 + 1)))\n",
    "    return group"
   ]
  },
  {
   "cell_type": "markdown",
   "metadata": {},
   "source": [
    "Calculate stocks"
   ]
  },
  {
   "cell_type": "code",
   "execution_count": null,
   "metadata": {},
   "outputs": [],
   "source": [
    "def calculate_stock(group):\n",
    "    \"\"\"Calculate the current stock for each row in the group.\"\"\"\n",
    "    group = group.sort_values('Date')\n",
    "    for i in range(1, len(group)):\n",
    "        if group.iloc[i]['Date'] == group.iloc[i]['Date_min']:\n",
    "            continue\n",
    "        elif group.iloc[i]['Date'] == group.iloc[i]['Next_Restock_Day'] - pd.Timedelta(days=7):\n",
    "            group.iloc[i, group.columns.get_loc('Current_Stock')] = group.iloc[i-1]['Current_Stock'] - group.iloc[i]['Quantity'] + group.iloc[i-1]['Quantity_to_arrive']\n",
    "        else:\n",
    "            group.iloc[i, group.columns.get_loc('Current_Stock')] = group.iloc[i-1]['Current_Stock'] - group.iloc[i]['Quantity']\n",
    "    return group"
   ]
  },
  {
   "cell_type": "code",
   "execution_count": null,
   "metadata": {},
   "outputs": [],
   "source": [
    "def calculate_quantity_to_arrive(group):\n",
    "    group['Quantity_to_arrive'] = group.groupby('Next_Restock_Day')['Quantity'].transform('sum')\n",
    "    return group"
   ]
  },
  {
   "cell_type": "code",
   "execution_count": null,
   "metadata": {},
   "outputs": [],
   "source": [
    "# Define the current directory and file name\n",
    "current_directory = os.getcwd()\n",
    "file_name = f'{current_directory}/../datasets/cigarettes_treated.feather'"
   ]
  },
  {
   "cell_type": "code",
   "execution_count": null,
   "metadata": {},
   "outputs": [],
   "source": [
    "# Load and preprocess the data\n",
    "sls = load_data(file_name)"
   ]
  },
  {
   "cell_type": "code",
   "execution_count": null,
   "metadata": {},
   "outputs": [],
   "source": [
    "# Generate the stocks dataframe\n",
    "stocks = generate_stocks(sls)"
   ]
  },
  {
   "cell_type": "code",
   "execution_count": null,
   "metadata": {},
   "outputs": [],
   "source": [
    "# Calculate the restock days\n",
    "stocks = stocks.groupby(['Store_ID2', 'Product_ID']).apply(calculate_restock_days)\n"
   ]
  },
  {
   "cell_type": "code",
   "execution_count": null,
   "metadata": {},
   "outputs": [],
   "source": [
    "# Merge the stocks and sls dataframes\n",
    "operation = stocks.merge(sls, on=['Store_ID2', 'Product_ID', 'Date'], how='left')\n",
    "operation['Quantity'] = operation['Quantity'].fillna(0)\n",
    "operation['Date'] = pd.to_datetime(operation['Date'])"
   ]
  },
  {
   "cell_type": "code",
   "execution_count": null,
   "metadata": {},
   "outputs": [],
   "source": [
    "# Calculate the restock days again\n",
    "operation = operation.groupby(['Store_ID2', 'Product_ID']).apply(calculate_restock_days)\n"
   ]
  },
  {
   "cell_type": "code",
   "execution_count": null,
   "metadata": {},
   "outputs": [],
   "source": [
    "operation = operation.groupby(['Store_ID2', 'Product_ID']).apply(calculate_quantity_to_arrive)"
   ]
  },
  {
   "cell_type": "code",
   "execution_count": null,
   "metadata": {},
   "outputs": [],
   "source": [
    "# Calculate the current stock\n",
    "operation['Current_Stock'] = operation.apply(lambda row: row['Quantity_to_arrive'] + 10 if row['Date'] == row['Date_min'] else 0, axis=1)\n"
   ]
  },
  {
   "cell_type": "code",
   "execution_count": null,
   "metadata": {},
   "outputs": [],
   "source": [
    "# Calculate the stock for each group\n",
    "groups = [calculate_stock(group) for _, group in tqdm(operation.groupby(['Store_ID2', 'Product_ID']))]\n"
   ]
  },
  {
   "cell_type": "code",
   "execution_count": null,
   "metadata": {},
   "outputs": [],
   "source": [
    "# Concatenate the groups and save the result\n",
    "operation = pd.concat(groups)"
   ]
  },
  {
   "cell_type": "code",
   "execution_count": null,
   "metadata": {},
   "outputs": [],
   "source": [
    "operation.to_csv(f'{current_directory}/cigarettes_treated_w_stocks.csv', index=False)\n",
    "operation.to_feather(f'{current_directory}/cigarettes_treated_w_stocks.feather')"
   ]
  }
 ],
 "metadata": {
  "kernelspec": {
   "display_name": "Python 3",
   "language": "python",
   "name": "python3"
  },
  "language_info": {
   "codemirror_mode": {
    "name": "ipython",
    "version": 3
   },
   "file_extension": ".py",
   "mimetype": "text/x-python",
   "name": "python",
   "nbconvert_exporter": "python",
   "pygments_lexer": "ipython3",
   "version": "3.10.11"
  }
 },
 "nbformat": 4,
 "nbformat_minor": 2
}
